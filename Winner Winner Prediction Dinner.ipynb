{
 "cells": [
  {
   "cell_type": "markdown",
   "metadata": {},
   "source": [
    "# Libraries"
   ]
  },
  {
   "cell_type": "code",
   "execution_count": 1,
   "metadata": {},
   "outputs": [
    {
     "name": "stderr",
     "output_type": "stream",
     "text": [
      "/Users/adamkrauss/anaconda3/lib/python3.6/site-packages/sklearn/cross_validation.py:41: DeprecationWarning: This module was deprecated in version 0.18 in favor of the model_selection module into which all the refactored classes and functions are moved. Also note that the interface of the new CV iterators are different from that of this module. This module will be removed in 0.20.\n",
      "  \"This module will be removed in 0.20.\", DeprecationWarning)\n",
      "/Users/adamkrauss/anaconda3/lib/python3.6/site-packages/h5py/__init__.py:36: FutureWarning: Conversion of the second argument of issubdtype from `float` to `np.floating` is deprecated. In future, it will be treated as `np.float64 == np.dtype(float).type`.\n",
      "  from ._conv import register_converters as _register_converters\n",
      "Using TensorFlow backend.\n"
     ]
    }
   ],
   "source": [
    "import pandas as pd\n",
    "import seaborn as sns\n",
    "import matplotlib.pyplot as plt\n",
    "import numpy as np\n",
    "\n",
    "from sklearn.datasets import make_regression, make_classification\n",
    "from sklearn.preprocessing import StandardScaler, PolynomialFeatures, LabelEncoder\n",
    "from sklearn.model_selection import train_test_split,  GridSearchCV\n",
    "from sklearn.ensemble import RandomForestClassifier, BaggingClassifier, GradientBoostingClassifier, AdaBoostClassifier, RandomForestClassifier\n",
    "from sklearn.naive_bayes import GaussianNB\n",
    "from sklearn import cross_validation\n",
    "from sklearn.pipeline import Pipeline\n",
    "from sklearn.cluster import KMeans, k_means\n",
    "from sklearn.metrics import silhouette_score\n",
    "\n",
    "from keras.models import Sequential\n",
    "from keras.layers import Dense, Dropout\n",
    "from keras.utils import to_categorical\n",
    "from keras.callbacks import EarlyStopping\n",
    "from keras import regularizers\n",
    "from keras.wrappers.scikit_learn import KerasClassifier\n",
    "\n",
    "import xgboost\n",
    "\n",
    "from geopy.distance import vincenty\n",
    "from datetime import datetime as dt\n",
    "from haversine import haversine\n",
    "from sklearn.decomposition import PCA"
   ]
  },
  {
   "cell_type": "markdown",
   "metadata": {},
   "source": [
    "# Loading the Data"
   ]
  },
  {
   "cell_type": "code",
   "execution_count": 2,
   "metadata": {},
   "outputs": [],
   "source": [
    "pd.set_option('max_columns', 100)\n",
    "pd.set_option('max_colwidth', 999)\n",
    "pd.set_option('display.float_format', lambda x: '%.3f' % x)\n",
    "pd.set_option('display.precision',10)"
   ]
  },
  {
   "cell_type": "code",
   "execution_count": 3,
   "metadata": {},
   "outputs": [],
   "source": [
    "train = pd.read_csv('train.csv')\n",
    "weather = pd.read_csv('weather.csv')\n",
    "spray = pd.read_csv('spray.csv')\n",
    "\n",
    "weather = weather.iloc[56:]"
   ]
  },
  {
   "cell_type": "code",
   "execution_count": 4,
   "metadata": {},
   "outputs": [],
   "source": [
    "def choose_station(lat, long):\n",
    "    dist_ohare = abs((41.995 - lat) + (-87.933 - long))\n",
    "    dist_midway = abs((41.786 - lat) + (-87.752 - long)) \n",
    "    if dist_ohare < dist_midway:\n",
    "        return 1\n",
    "    else:\n",
    "        return 2"
   ]
  },
  {
   "cell_type": "code",
   "execution_count": 5,
   "metadata": {},
   "outputs": [],
   "source": [
    "train['Station'] = train.apply(lambda x: choose_station(x['Latitude'], x['Longitude']), axis=1)"
   ]
  },
  {
   "cell_type": "code",
   "execution_count": 6,
   "metadata": {},
   "outputs": [],
   "source": [
    "# Spray data in case we choose to pursue it\n",
    "spray['Date'] = pd.to_datetime(spray['Date'])\n",
    "spray.duplicated().sum()\n",
    "spray.drop_duplicates(inplace=True)"
   ]
  },
  {
   "cell_type": "code",
   "execution_count": 7,
   "metadata": {},
   "outputs": [],
   "source": [
    "train = pd.merge(train, weather, on=['Date','Station'])"
   ]
  },
  {
   "cell_type": "markdown",
   "metadata": {},
   "source": [
    "# EDA & Cleaning"
   ]
  },
  {
   "cell_type": "code",
   "execution_count": 8,
   "metadata": {
    "scrolled": true
   },
   "outputs": [
    {
     "name": "stderr",
     "output_type": "stream",
     "text": [
      "/Users/adamkrauss/anaconda3/lib/python3.6/site-packages/pandas/core/generic.py:4480: UserWarning: the \"axis\" argument is deprecated and will be removed inv0.13; this argument has no effect\n",
      "  warnings.warn('the \"axis\" argument is deprecated '\n"
     ]
    }
   ],
   "source": [
    "le = LabelEncoder()\n",
    "#train.drop('Species', axis=1, inplace=True)\n",
    "le.fit(train['Species'])\n",
    "train['Species'] = le.transform(train['Species'])\n",
    "le.fit(train['Trap'])\n",
    "train['Trap'] = le.transform(train['Trap'])\n",
    "le.fit(train['Water1'])\n",
    "train['Water1'] = le.transform(train['Water1'])\n",
    "\n",
    "train.replace('M', np.NaN, inplace=True, axis=1)\n",
    "train.replace('  T', np.NaN, inplace=True, axis=1)\n",
    "\n",
    "train['Sunrise'].replace('-', np.nan, inplace=True, axis=1)\n",
    "train['Sunrise'].fillna(str('0421'), inplace=True)\n",
    "train['Sunset'].replace('-', np.nan, inplace=True, axis=1)\n",
    "train['Sunset'].fillna(1919, inplace=True)\n",
    "train['CodeSum'].replace(r'^\\s*$', 'Moderate', regex=True, inplace=True, axis=1)\n",
    "\n",
    "train['Tavg'] = train['Tavg'].astype('float64')\n",
    "train['Depart'] = train['Depart'].astype('float64')\n",
    "train['WetBulb'] = train['WetBulb'].astype('float64')\n",
    "train['Depth'] = train['Depth'].astype('float64')\n",
    "train['SnowFall'] = train['SnowFall'].astype('float64')\n",
    "train['PrecipTotal'] = train['PrecipTotal'].astype('float64')\n",
    "train['StnPressure'] = train['StnPressure'].astype('float64')\n",
    "train['SeaLevel'] = train['SeaLevel'].astype('float64')\n",
    "train['AvgSpeed'] = train['AvgSpeed'].astype('float64')\n",
    "train['Heat'] = train['Heat'].astype('int64')\n",
    "train['Cool'] = train['Cool'].astype('int64')\n",
    "train['Sunrise'] = train['Sunrise'].astype('int64')\n",
    "train['Sunset'] = train['Sunset'].astype('int64')\n",
    "\n",
    "train['Depth'].interpolate(method='linear', inplace=True)\n",
    "train['SnowFall'].interpolate(method='linear', inplace=True)\n",
    "train['PrecipTotal'].interpolate(method='linear', inplace=True)\n",
    "train['StnPressure'].interpolate(method='linear', inplace=True)\n",
    "train['Depart'].interpolate(method='linear', inplace=True)\n",
    "train['WetBulb'].interpolate(method='linear', inplace=True)\n",
    "\n",
    "# Replace all TSRA (thunderstorm + rain) with 'TR' to be able to better split values\n",
    "train['CodeSum'] = train['CodeSum'].map(lambda x: (x.replace('TSRA', 'TR')))\n",
    "train['CodeSum_1'] = train['CodeSum'].apply(lambda x: x[0:2])\n",
    "train['CodeSum_2'] = train['CodeSum'].apply(lambda x: x[3:5])\n",
    "\n",
    "le.fit(train['CodeSum_1'])\n",
    "train['CodeSum_1'] = le.transform(train['CodeSum_1'])\n",
    "le.fit(train['CodeSum_2'])\n",
    "train['CodeSum_2'] = le.transform(train['CodeSum_2'])\n",
    "\n",
    "# train['Rain'] = train['CodeSum'].apply(lambda x: 1 if \"RA\" in x else 0)\n",
    "# train['Rain'] = train['CodeSum'].apply(lambda x: 1 if \"TS\" in x else 0)\n",
    "# train['Rain'] = train['CodeSum'].apply(lambda x: 1 if \"DZ\" in x else 0)\n",
    "# train['Moderate'] = train['CodeSum'].apply(lambda x: 1 if 'Mod' in x else 0)\n",
    "\n",
    "train['Year'] = train['Date'].apply(lambda x: x[0:4])\n",
    "train = pd.get_dummies(train, columns=['Year'])\n",
    "\n",
    "# Reinstantiating column as it was deleted in get_dummies\n",
    "train['Year'] = train['Date'].apply(lambda x: x[0:4])\n",
    "train['Year'] = train['Year'].astype('int64')\n",
    "train['OverAvgNumMos'] = train['NumMosquitos'].apply(lambda x: 1 if x >= 13 else 0)"
   ]
  },
  {
   "cell_type": "code",
   "execution_count": 9,
   "metadata": {},
   "outputs": [],
   "source": [
    "wnv = train.loc[train['WnvPresent'] ==1]"
   ]
  },
  {
   "cell_type": "code",
   "execution_count": 10,
   "metadata": {
    "scrolled": true
   },
   "outputs": [
    {
     "data": {
      "text/plain": [
       "Index(['Date', 'Address', 'Species', 'Block', 'Street', 'Trap',\n",
       "       'AddressNumberAndStreet', 'Latitude', 'Longitude', 'AddressAccuracy',\n",
       "       'NumMosquitos', 'WnvPresent', 'Station', 'Tmax', 'Tmin', 'Tavg',\n",
       "       'Depart', 'DewPoint', 'WetBulb', 'Heat', 'Cool', 'Sunrise', 'Sunset',\n",
       "       'CodeSum', 'Depth', 'Water1', 'SnowFall', 'PrecipTotal', 'StnPressure',\n",
       "       'SeaLevel', 'ResultSpeed', 'ResultDir', 'AvgSpeed', 'CodeSum_1',\n",
       "       'CodeSum_2', 'Year_2007', 'Year_2009', 'Year_2011', 'Year_2013', 'Year',\n",
       "       'OverAvgNumMos'],\n",
       "      dtype='object')"
      ]
     },
     "execution_count": 10,
     "metadata": {},
     "output_type": "execute_result"
    }
   ],
   "source": [
    "train.columns"
   ]
  },
  {
   "cell_type": "code",
   "execution_count": 11,
   "metadata": {},
   "outputs": [],
   "source": [
    "# train2 = train.groupby(['Date', 'Address', 'Block', 'Street', 'Trap',\n",
    "#        'AddressNumberAndStreet', 'Latitude', 'Longitude', 'AddressAccuracy',\n",
    "#        'NumMosquitos', 'WnvPresent', 'Station', 'Tmax', 'Tmin', 'Tavg',\n",
    "#        'Depart', 'DewPoint', 'WetBulb', 'Heat', 'Cool', 'Sunrise', 'Sunset',\n",
    "#        'CodeSum', 'Depth', 'Water1', 'SnowFall', 'PrecipTotal', 'StnPressure',\n",
    "#        'SeaLevel', 'ResultSpeed', 'ResultDir', 'AvgSpeed', 'CodeSum_1',\n",
    "#        'CodeSum_2']).agg({'Species':', '.sum}).reset_index()"
   ]
  },
  {
   "cell_type": "markdown",
   "metadata": {},
   "source": [
    "# Identifying Clusters"
   ]
  },
  {
   "cell_type": "code",
   "execution_count": 17,
   "metadata": {},
   "outputs": [],
   "source": [
    "present = train.loc[train['WnvPresent'] == 1]\n",
    "\n",
    "train['Longitude_wnv'] = present['Longitude']\n",
    "train['Latitude_wnv'] = present['Latitude']\n",
    "train['2007_wnv'] = present['Year_2007']\n",
    "train['2009_wnv'] = present['Year_2009']\n",
    "train['2011_wnv'] = present['Year_2011']\n",
    "train['2013_wnv'] = present['Year_2013']\n",
    "\n",
    "train['2007_wnv'].fillna(0, inplace = True)\n",
    "train['2009_wnv'].fillna(0, inplace = True)\n",
    "train['2011_wnv'].fillna(0, inplace = True)\n",
    "train['2013_wnv'].fillna(0, inplace = True)"
   ]
  },
  {
   "cell_type": "code",
   "execution_count": 18,
   "metadata": {},
   "outputs": [],
   "source": [
    "wnv_present_2007 = train.loc[train['2007_wnv'] == 1]\n",
    "\n",
    "train['Longitude_wnv_2007'] = wnv_present_2007['Longitude']\n",
    "train['Latitude_wnv_2007'] = wnv_present_2007['Latitude']\n",
    "train['Longitude_wnv_2007'].fillna(0, inplace = True)\n",
    "train['Latitude_wnv_2007'].fillna(0, inplace = True)\n",
    "\n",
    "wnv_present_2009 = train.loc[train['2009_wnv'] == 1]\n",
    "\n",
    "train['Longitude_wnv_2009'] = wnv_present_2009['Longitude']\n",
    "train['Latitude_wnv_2009'] = wnv_present_2009['Latitude']\n",
    "train['Longitude_wnv_2009'].fillna(0, inplace = True)\n",
    "train['Latitude_wnv_2009'].fillna(0, inplace = True)\n",
    "\n",
    "wnv_present_2011 = train.loc[train['2011_wnv'] == 1]\n",
    "\n",
    "train['Longitude_wnv_2011'] = wnv_present_2011['Longitude']\n",
    "train['Latitude_wnv_2011'] = wnv_present_2011['Latitude']\n",
    "train['Longitude_wnv_2011'].fillna(0, inplace = True)\n",
    "train['Latitude_wnv_2011'].fillna(0, inplace = True)\n",
    "\n",
    "wnv_present_2013 = train.loc[train['2013_wnv'] == 1]\n",
    "\n",
    "train['Longitude_wnv_2013'] = wnv_present_2013['Longitude']\n",
    "train['Latitude_wnv_2013'] = wnv_present_2013['Latitude']\n",
    "train['Longitude_wnv_2013'].fillna(0, inplace = True)\n",
    "train['Latitude_wnv_2013'].fillna(0, inplace = True)"
   ]
  },
  {
   "cell_type": "code",
   "execution_count": 19,
   "metadata": {},
   "outputs": [
    {
     "name": "stdout",
     "output_type": "stream",
     "text": [
      "   Longitude_2007  Latitude_2007\n",
      "1         -87.580         41.696\n",
      "2         -87.684         41.911\n",
      "3         -87.707         41.800\n",
      "4         -87.798         41.975\n",
      "5         -87.687         41.698\n",
      "Silhouette Score:  0.9902899479522004\n"
     ]
    },
    {
     "data": {
      "image/png": "[encoded data removed]",
      "text/plain": [
       "<Figure size 720x576 with 1 Axes>"
      ]
     },
     "metadata": {},
     "output_type": "display_data"
    }
   ],
   "source": [
    "kmeans_2007 = KMeans(n_clusters=6)\n",
    "model_2007 = kmeans_2007.fit(train[['Longitude_wnv_2007', 'Latitude_wnv_2007']])\n",
    "train['cluster_predicted_2007'] = model_2007.labels_\n",
    "model_2007.cluster_centers_\n",
    "centroids_2007 = pd.DataFrame(model_2007.cluster_centers_, columns=['Longitude_2007', 'Latitude_2007'])\n",
    "centroids_2007.drop([0], inplace=True)\n",
    "print(centroids_2007)\n",
    "\n",
    "colors = [\"black\", \"green\", \"blue\", \"orange\", \"tomato\", \"purple\"] # black is for non-present WNV\n",
    "train['cluster_color_2007'] = train['cluster_predicted_2007'].map(lambda p: colors[p])\n",
    "\n",
    "ax = train.plot(kind=\"scatter\", \n",
    "    x=\"Longitude_wnv_2007\", y=\"Latitude_wnv_2007\",\n",
    "    figsize=(10,8),\n",
    "    xlim=(-88, -87.5),\n",
    "    ylim=(41.6, 42.05),\n",
    "    c = train['cluster_color_2007'],\n",
    "    alpha=0.75)\n",
    "\n",
    "centroids_2007.plot(kind=\"scatter\", \n",
    "    x=\"Longitude_2007\", y=\"Latitude_2007\", \n",
    "    marker=\"*\", \n",
    "    c=[\"green\", \"blue\", \"orange\", \"tomato\", \"purple\"], \n",
    "    s=250,\n",
    "    ax=ax)\n",
    "\n",
    "print('Silhouette Score: ', silhouette_score(train[['Longitude_wnv_2007', 'Latitude_wnv_2007']], \n",
    "                                             train['cluster_predicted_2007']))"
   ]
  },
  {
   "cell_type": "code",
   "execution_count": 20,
   "metadata": {},
   "outputs": [
    {
     "name": "stdout",
     "output_type": "stream",
     "text": [
      "   Longitude_2009  Latitude_2009\n",
      "1         -87.780         41.936\n",
      "2         -87.572         41.705\n",
      "3         -87.722         41.727\n",
      "4         -87.901         41.971\n",
      "5         -87.678         41.886\n",
      "Silhouette Score:  0.9990879006533443\n"
     ]
    },
    {
     "data": {
      "image/png": "[encoded data removed]",
      "text/plain": [
       "<Figure size 720x576 with 1 Axes>"
      ]
     },
     "metadata": {},
     "output_type": "display_data"
    }
   ],
   "source": [
    "kmeans_2009 = KMeans(n_clusters=6)\n",
    "model_2009 = kmeans_2009.fit(train[['Longitude_wnv_2009', 'Latitude_wnv_2009']])\n",
    "train['cluster_predicted_2009'] = model_2009.labels_\n",
    "model_2009.cluster_centers_\n",
    "centroids_2009 = pd.DataFrame(model_2009.cluster_centers_, columns=['Longitude_2009', 'Latitude_2009'])\n",
    "centroids_2009.drop([0], inplace=True)\n",
    "print(centroids_2009)\n",
    "\n",
    "colors = [\"black\", \"green\", \"blue\", \"orange\", \"tomato\", \"purple\"] # black is for non-present WNV\n",
    "train['cluster_color_2009'] = train['cluster_predicted_2009'].map(lambda p: colors[p])\n",
    "\n",
    "ax = train.plot(kind=\"scatter\", \n",
    "    x=\"Longitude_wnv_2009\", y=\"Latitude_wnv_2009\",\n",
    "    figsize=(10,8),\n",
    "    xlim=(-88, -87.5),\n",
    "    ylim=(41.6, 42.05),\n",
    "    c = train['cluster_color_2009'],\n",
    "    alpha=0.5)\n",
    "\n",
    "centroids_2009.plot(kind=\"scatter\", \n",
    "    x=\"Longitude_2009\", y=\"Latitude_2009\", \n",
    "    marker=\"*\", \n",
    "    c=[\"green\", \"blue\", \"orange\", \"tomato\", \"purple\"], \n",
    "    s=250,\n",
    "    ax=ax)\n",
    "\n",
    "print('Silhouette Score: ', silhouette_score(train[['Longitude_wnv_2009', 'Latitude_wnv_2009']], \n",
    "                                             train['cluster_predicted_2009']))"
   ]
  },
  {
   "cell_type": "code",
   "execution_count": 21,
   "metadata": {},
   "outputs": [
    {
     "name": "stdout",
     "output_type": "stream",
     "text": [
      "   Longitude_2011  Latitude_2011\n",
      "1         -87.903         41.969\n",
      "2         -87.718         41.936\n",
      "3         -87.730         41.753\n",
      "4         -87.605         41.756\n",
      "5         -87.789         41.960\n",
      "Silhouette Score:  0.9979362952747243\n"
     ]
    },
    {
     "data": {
      "image/png": "[encoded data removed]",
      "text/plain": [
       "<Figure size 720x576 with 1 Axes>"
      ]
     },
     "metadata": {},
     "output_type": "display_data"
    }
   ],
   "source": [
    "kmeans_2011 = KMeans(n_clusters=6)\n",
    "model_2011 = kmeans_2011.fit(train[['Longitude_wnv_2011', 'Latitude_wnv_2011']])\n",
    "train['cluster_predicted_2011'] = model_2011.labels_\n",
    "model_2011.cluster_centers_\n",
    "centroids_2011 = pd.DataFrame(model_2011.cluster_centers_, columns=['Longitude_2011', 'Latitude_2011'])\n",
    "centroids_2011.drop([0], inplace=True)\n",
    "print(centroids_2011)\n",
    "\n",
    "colors = [\"black\", \"green\", \"blue\", \"orange\", \"tomato\", \"purple\"] # black is for non-present WNV\n",
    "train['cluster_color_2011'] = train['cluster_predicted_2011'].map(lambda p: colors[p])\n",
    "\n",
    "ax = train.plot(kind=\"scatter\", \n",
    "    x=\"Longitude_wnv_2011\", y=\"Latitude_wnv_2011\",\n",
    "    figsize=(10,8),\n",
    "    xlim=(-88, -87.5),\n",
    "    ylim=(41.6, 42.05),\n",
    "    c = train['cluster_color_2011'],\n",
    "    alpha=0.5)\n",
    "\n",
    "centroids_2011.plot(kind=\"scatter\", \n",
    "    x=\"Longitude_2011\", y=\"Latitude_2011\", \n",
    "    marker=\"*\", \n",
    "    c=[\"green\", \"blue\", \"orange\", \"tomato\", \"purple\"], \n",
    "    s=250,\n",
    "    ax=ax)\n",
    "\n",
    "print('Silhouette Score: ', silhouette_score(train[['Longitude_wnv_2011', 'Latitude_wnv_2011']], \n",
    "                                             train['cluster_predicted_2011']))"
   ]
  },
  {
   "cell_type": "code",
   "execution_count": 22,
   "metadata": {},
   "outputs": [
    {
     "name": "stdout",
     "output_type": "stream",
     "text": [
      "   Longitude_2013  Latitude_2013\n",
      "1         -87.698         41.929\n",
      "2         -87.726         41.763\n",
      "3         -87.888         41.976\n",
      "4         -87.617         41.739\n",
      "5         -87.790         41.965\n",
      "Silhouette Score:  0.9891512919774651\n"
     ]
    },
    {
     "data": {
      "image/png": "[encoded data removed]",
      "text/plain": [
       "<Figure size 720x576 with 1 Axes>"
      ]
     },
     "metadata": {},
     "output_type": "display_data"
    }
   ],
   "source": [
    "kmeans_2013 = KMeans(n_clusters=6)\n",
    "model_2013 = kmeans_2013.fit(train[['Longitude_wnv_2013', 'Latitude_wnv_2013']])\n",
    "train['cluster_predicted_2013'] = model_2013.labels_\n",
    "model_2013.cluster_centers_\n",
    "centroids_2013 = pd.DataFrame(model_2013.cluster_centers_, columns=['Longitude_2013', 'Latitude_2013'])\n",
    "centroids_2013.drop([0], inplace=True)\n",
    "print(centroids_2013)\n",
    "\n",
    "colors = [\"black\", \"green\", \"blue\", \"orange\", \"tomato\", \"purple\"] # black is for non-present WNV\n",
    "train['cluster_color_2013'] = train['cluster_predicted_2013'].map(lambda p: colors[p])\n",
    "\n",
    "ax = train.plot(kind=\"scatter\", \n",
    "    x=\"Longitude_wnv_2013\", y=\"Latitude_wnv_2013\",\n",
    "    figsize=(10,8),\n",
    "    xlim=(-88, -87.5),\n",
    "    ylim=(41.6, 42.05),\n",
    "    c = train['cluster_color_2013'],\n",
    "    alpha=0.5)\n",
    "\n",
    "centroids_2013.plot(kind=\"scatter\", \n",
    "    x=\"Longitude_2013\", y=\"Latitude_2013\", \n",
    "    marker=\"*\", \n",
    "    c=[\"green\", \"blue\", \"orange\", \"tomato\", \"purple\"], \n",
    "    s=250,\n",
    "    ax=ax)\n",
    "\n",
    "print('Silhouette Score: ', silhouette_score(train[['Longitude_wnv_2013', 'Latitude_wnv_2013']],\n",
    "                                             train['cluster_predicted_2013']))"
   ]
  },
  {
   "cell_type": "markdown",
   "metadata": {},
   "source": [
    "# Functions for new features"
   ]
  },
  {
   "cell_type": "code",
   "execution_count": 23,
   "metadata": {},
   "outputs": [],
   "source": [
    "seven_centroids= [(-87.580, 41.696), (-87.797, 41.973), (-87.707, 41.800), (-87.677, 41.910), (-87.687, 41.698)]\n",
    "seven_centroids = [t[::-1] for t in seven_centroids]\n",
    "nine_centroids = [(41.932, -87.794),(41.727, -87.722),(41.971, -87.901),(41.705, -87.572),(41.908, -87.693)]\n",
    "eleven_centroids= [(-87.718, 41.936), (-87.903,41.969),(-87.730, 41.753),(-87.605, 41.756),(-87.789, 41.960)]\n",
    "eleven_centroids = [t[::-1] for t in eleven_centroids]\n",
    "thirteen_centroids = [(-87.688, 41.925), (-87.888, 41.976), (-87.617, 41.739), (-87.726, 41.763), (-87.780, 41.961)]\n",
    "thirteen_centroids = [t[::-1] for t in thirteen_centroids]"
   ]
  },
  {
   "cell_type": "code",
   "execution_count": 24,
   "metadata": {},
   "outputs": [],
   "source": [
    "seven_traps = train.loc[train['Year']== 2007]\n",
    "seven_traps = seven_traps[['Latitude', 'Longitude']]\n",
    "seven_tuples = [tuple(x) for x in seven_traps.values]\n",
    "\n",
    "nine_traps = train.loc[train['Year']== 2009]\n",
    "nine_traps = nine_traps[['Latitude', 'Longitude']]\n",
    "nine_tuples = [tuple(x) for x in nine_traps.values]\n",
    "\n",
    "eleven_traps = train.loc[train['Year']== 2011]\n",
    "eleven_traps = eleven_traps[['Latitude', 'Longitude']]\n",
    "eleven_tuples = [tuple(x) for x in eleven_traps.values]\n",
    "\n",
    "thirteen_traps = train.loc[train['Year']== 2013]\n",
    "thirteen_traps = thirteen_traps[['Latitude', 'Longitude']]\n",
    "thirteen_tuples = [tuple(x) for x in thirteen_traps.values]\n",
    "\n",
    "all_tuples = train[[\"Latitude\", \"Longitude\"]]\n",
    "all_tuples = [tuple(x) for x in all_tuples.values]"
   ]
  },
  {
   "cell_type": "code",
   "execution_count": 25,
   "metadata": {},
   "outputs": [],
   "source": [
    "within_range_7 = []\n",
    "def impossible_haversine_attempt_2007(a, b):\n",
    "    \n",
    "    for coord in a:\n",
    "        for centroid in b:\n",
    "            if haversine(coord, centroid, miles=True) < 0.35:\n",
    "                within_range_7.append(coord)\n",
    "            else:\n",
    "                pass\n",
    "            \n",
    "    return('done!')"
   ]
  },
  {
   "cell_type": "code",
   "execution_count": 26,
   "metadata": {},
   "outputs": [],
   "source": [
    "within_range_9 = []\n",
    "def impossible_haversine_attempt_2009(a, b):\n",
    "    for coord in a:\n",
    "        for centroid in b:\n",
    "            if haversine(coord, centroid, miles=True) < 0.35:\n",
    "                within_range_9.append(coord)\n",
    "            else:\n",
    "                pass\n",
    "            \n",
    "    return('done!')"
   ]
  },
  {
   "cell_type": "code",
   "execution_count": 27,
   "metadata": {},
   "outputs": [],
   "source": [
    "within_range_11 = []\n",
    "def impossible_haversine_attempt_2011(a, b):\n",
    "    for coord in a:\n",
    "        for centroid in b:\n",
    "            if haversine(coord, centroid, miles=True) < 0.35:\n",
    "                within_range_11.append(coord)\n",
    "            else:\n",
    "                pass\n",
    "            \n",
    "    return('done!')"
   ]
  },
  {
   "cell_type": "code",
   "execution_count": 28,
   "metadata": {},
   "outputs": [],
   "source": [
    "within_range_13 = []\n",
    "def impossible_haversine_attempt_2013(a, b):\n",
    "    for coord in a:\n",
    "        for centroid in b:\n",
    "            if haversine(coord, centroid, miles=True) < 0.35:\n",
    "                within_range_13.append(coord)\n",
    "            else:\n",
    "                pass\n",
    "            \n",
    "    return('done!')"
   ]
  },
  {
   "cell_type": "code",
   "execution_count": 29,
   "metadata": {},
   "outputs": [
    {
     "data": {
      "text/plain": [
       "'done!'"
      ]
     },
     "execution_count": 29,
     "metadata": {},
     "output_type": "execute_result"
    }
   ],
   "source": [
    "impossible_haversine_attempt_2007(seven_tuples, seven_centroids)\n",
    "\n",
    "impossible_haversine_attempt_2009(nine_tuples, nine_centroids)\n",
    "\n",
    "impossible_haversine_attempt_2011(eleven_tuples, eleven_centroids)\n",
    "\n",
    "impossible_haversine_attempt_2013(thirteen_tuples, thirteen_centroids)"
   ]
  },
  {
   "cell_type": "code",
   "execution_count": 30,
   "metadata": {},
   "outputs": [],
   "source": [
    "train['LLtuples'] = all_tuples\n",
    "\n",
    "train['Near_07_Centroid'] = train['LLtuples'].apply(lambda x: 1 if x in within_range_7 else 0)\n",
    "train['Near_09_Centroid'] = train['LLtuples'].apply(lambda x: 1 if x in within_range_9 else 0)\n",
    "train['Near_11_Centroid'] = train['LLtuples'].apply(lambda x: 1 if x in within_range_11 else 0)\n",
    "train['Near_13_Centroid'] = train['LLtuples'].apply(lambda x: 1 if x in within_range_13 else 0)"
   ]
  },
  {
   "cell_type": "markdown",
   "metadata": {},
   "source": [
    "# Modeling"
   ]
  },
  {
   "cell_type": "code",
   "execution_count": 31,
   "metadata": {},
   "outputs": [],
   "source": [
    "nm = train.drop(['Year_2007', 'Year_2009', 'Year_2011', 'Year_2013', 'Year',\n",
    "       'Longitude_wnv', 'Latitude_wnv', '2007_wnv', '2009_wnv', '2011_wnv',\n",
    "       '2013_wnv', 'Longitude_wnv_2007', 'Latitude_wnv_2007',\n",
    "       'Longitude_wnv_2009', 'Latitude_wnv_2009', 'Longitude_wnv_2011',\n",
    "       'Latitude_wnv_2011', 'Longitude_wnv_2013', 'Latitude_wnv_2013',\n",
    "       'cluster_predicted_2009', 'cluster_color_2009',\n",
    "       'cluster_predicted_2013', 'cluster_color_2013', 'Date', 'Address', 'Street', \n",
    "       'AddressNumberAndStreet','LLtuples', 'CodeSum',  'cluster_predicted_2007', 'cluster_color_2007',\n",
    "       'cluster_predicted_2011', 'cluster_color_2011', 'Depth', 'SnowFall', 'Water1', 'ResultSpeed', 'Station', \n",
    "        'Sunrise', 'StnPressure', 'Near_07_Centroid', 'Near_09_Centroid', 'Near_11_Centroid',\n",
    "       'Near_13_Centroid', 'WnvPresent', 'ResultDir', 'CodeSum_1', 'CodeSum_2', 'Longitude', 'PrecipTotal', 'SeaLevel',\n",
    "        'AvgSpeed', 'Species'], axis=1)\n"
   ]
  },
  {
   "cell_type": "code",
   "execution_count": 32,
   "metadata": {},
   "outputs": [],
   "source": [
    "nmfeatures = nm.drop(['NumMosquitos', 'OverAvgNumMos'], axis=1)"
   ]
  },
  {
   "cell_type": "code",
   "execution_count": 33,
   "metadata": {
    "scrolled": true
   },
   "outputs": [
    {
     "data": {
      "text/plain": [
       "Index(['Block', 'Trap', 'Latitude', 'AddressAccuracy', 'Tmax', 'Tmin', 'Tavg',\n",
       "       'Depart', 'DewPoint', 'WetBulb', 'Heat', 'Cool', 'Sunset'],\n",
       "      dtype='object')"
      ]
     },
     "execution_count": 33,
     "metadata": {},
     "output_type": "execute_result"
    }
   ],
   "source": [
    "nmfeatures.columns"
   ]
  },
  {
   "cell_type": "code",
   "execution_count": 34,
   "metadata": {
    "scrolled": true
   },
   "outputs": [
    {
     "data": {
      "text/plain": [
       "OverAvgNumMos      1.000\n",
       "NumMosquitos       0.860\n",
       "Tmin               0.163\n",
       "Tavg               0.161\n",
       "WetBulb            0.153\n",
       "Cool               0.152\n",
       "Tmax               0.140\n",
       "DewPoint           0.138\n",
       "Trap               0.121\n",
       "Depart             0.085\n",
       "Sunset             0.072\n",
       "Heat              -0.124\n",
       "Block             -0.124\n",
       "Latitude          -0.125\n",
       "AddressAccuracy   -0.164\n",
       "Name: OverAvgNumMos, dtype: float64"
      ]
     },
     "execution_count": 34,
     "metadata": {},
     "output_type": "execute_result"
    }
   ],
   "source": [
    "nm.corr()['OverAvgNumMos'].sort_values(ascending=False)"
   ]
  },
  {
   "cell_type": "code",
   "execution_count": 35,
   "metadata": {
    "scrolled": false
   },
   "outputs": [
    {
     "name": "stderr",
     "output_type": "stream",
     "text": [
      "/Users/adamkrauss/anaconda3/lib/python3.6/site-packages/sklearn/model_selection/_split.py:2026: FutureWarning: From version 0.21, test_size will always complement train_size unless both are specified.\n",
      "  FutureWarning)\n"
     ]
    }
   ],
   "source": [
    "X_train, X_test, y_train, y_test = train_test_split(nmfeatures, nm['OverAvgNumMos'], train_size=0.6)"
   ]
  },
  {
   "cell_type": "code",
   "execution_count": 36,
   "metadata": {},
   "outputs": [],
   "source": [
    "scaler =StandardScaler()\n",
    "pcacopy =PCA()\n",
    "mosgb = GradientBoostingClassifier()\n",
    "ada = AdaBoostClassifier()\n",
    "rfr = RandomForestClassifier()\n",
    "xgb = xgboost.XGBClassifier()"
   ]
  },
  {
   "cell_type": "code",
   "execution_count": 37,
   "metadata": {},
   "outputs": [],
   "source": [
    "X_train = scaler.fit_transform(X_train)\n",
    "X_test = scaler.transform(X_test)\n",
    "X_train = pcacopy.fit_transform(X_train)\n",
    "X_test = pcacopy.transform(X_test)"
   ]
  },
  {
   "cell_type": "code",
   "execution_count": 39,
   "metadata": {},
   "outputs": [
    {
     "name": "stdout",
     "output_type": "stream",
     "text": [
      "0.8077106139933365\n",
      "0.7687366167023555\n"
     ]
    }
   ],
   "source": [
    "mosgb.fit(X_train, y_train)\n",
    "print(mosgb.score(X_train, y_train))\n",
    "print(mosgb.score(X_test, y_test))"
   ]
  },
  {
   "cell_type": "code",
   "execution_count": 40,
   "metadata": {},
   "outputs": [
    {
     "name": "stdout",
     "output_type": "stream",
     "text": [
      "0.7699508170712359\n",
      "0.7466095645967167\n"
     ]
    }
   ],
   "source": [
    "ada.fit(X_train, y_train)\n",
    "print(ada.score(X_train, y_train))\n",
    "print(ada.score(X_test, y_test))"
   ]
  },
  {
   "cell_type": "code",
   "execution_count": 41,
   "metadata": {},
   "outputs": [
    {
     "name": "stdout",
     "output_type": "stream",
     "text": [
      "0.9132159289227352\n",
      "0.7706400190340233\n"
     ]
    }
   ],
   "source": [
    "rfr.fit(X_train, y_train)\n",
    "print(rfr.score(X_train, y_train))\n",
    "print(rfr.score(X_test, y_test))"
   ]
  },
  {
   "cell_type": "code",
   "execution_count": 42,
   "metadata": {},
   "outputs": [
    {
     "name": "stdout",
     "output_type": "stream",
     "text": [
      "0.8043788672060923\n",
      "0.7696883178681894\n"
     ]
    },
    {
     "name": "stderr",
     "output_type": "stream",
     "text": [
      "/Users/adamkrauss/anaconda3/lib/python3.6/site-packages/sklearn/preprocessing/label.py:151: DeprecationWarning: The truth value of an empty array is ambiguous. Returning False, but in future this will result in an error. Use `array.size > 0` to check that an array is not empty.\n",
      "  if diff:\n",
      "/Users/adamkrauss/anaconda3/lib/python3.6/site-packages/sklearn/preprocessing/label.py:151: DeprecationWarning: The truth value of an empty array is ambiguous. Returning False, but in future this will result in an error. Use `array.size > 0` to check that an array is not empty.\n",
      "  if diff:\n"
     ]
    }
   ],
   "source": [
    "xgb.fit(X_train, y_train)\n",
    "print(xgb.score(X_train, y_train))\n",
    "print(xgb.score(X_test, y_test))"
   ]
  },
  {
   "cell_type": "code",
   "execution_count": 45,
   "metadata": {},
   "outputs": [],
   "source": [
    "# from keras import regularizers\n",
    "# from keras.callbacks import EarlyStopping\n",
    "\n",
    "# nmodel = Sequential()\n",
    "\n",
    "# n_input = X_train.shape[1]\n",
    "# n_hidden = n_input\n",
    "# n_output = 1\n",
    "\n",
    "# nmodel.add(Dense(n_hidden, input_dim=n_input, activation='relu',\n",
    "#                   kernel_regularizer=regularizers.l2(0.001)))\n",
    "# nmodel.add(Dropout(.25))\n",
    "\n",
    "# nmodel.add(Dense(4, activation= 'relu', \n",
    "#                    kernel_regularizer=regularizers.l2(0.001)))\n",
    "# nmodel.add(Dropout(.25))\n",
    "\n",
    "# nmodel.add(Dense(1))"
   ]
  },
  {
   "cell_type": "code",
   "execution_count": 46,
   "metadata": {},
   "outputs": [],
   "source": [
    "# nmodel.compile(loss='mean_squared_error', optimizer='adam')\n",
    "# early_stop = EarlyStopping(monitor='val_loss', min_delta=0, patience=5, verbose=0, mode='auto')"
   ]
  },
  {
   "cell_type": "code",
   "execution_count": 47,
   "metadata": {
    "scrolled": false
   },
   "outputs": [],
   "source": [
    "# history = nmodel.fit(X_train, y_train, validation_data=(X_test, y_test), epochs=100, batch_size=None, callbacks =[early_stop])"
   ]
  },
  {
   "cell_type": "code",
   "execution_count": 48,
   "metadata": {},
   "outputs": [],
   "source": [
    "# train_loss =history.history['loss']\n",
    "# test_loss = history.history['val_loss']\n",
    "# plt.plot(train_loss, label='training loss')\n",
    "# plt.plot(test_loss, label='test loss')\n",
    "# plt.legend()"
   ]
  },
  {
   "cell_type": "markdown",
   "metadata": {},
   "source": [
    "# Creating a padded DF, compensating for rows that duplicate by species per trap, and giving a lot more Wnv samples to analyze, maybe??? Overfitting but there are 551 unique samples * 4"
   ]
  },
  {
   "cell_type": "code",
   "execution_count": 49,
   "metadata": {},
   "outputs": [],
   "source": [
    "wnv_samples_1 = train[train['WnvPresent'] ==1]\n",
    "wnv_samples_2 = train[train['WnvPresent'] ==1]\n",
    "wnv_samples_3 = train[train['WnvPresent'] ==1]\n",
    "wnv_samples_4 = train[train['WnvPresent'] ==1]"
   ]
  },
  {
   "cell_type": "code",
   "execution_count": 50,
   "metadata": {},
   "outputs": [],
   "source": [
    "frames = [train, wnv_samples_1, wnv_samples_2, wnv_samples_3, wnv_samples_4]\n",
    "\n",
    "pad_train = pd.concat(frames)\n",
    "pad_train.reset_index(inplace=True)"
   ]
  },
  {
   "cell_type": "code",
   "execution_count": 51,
   "metadata": {},
   "outputs": [],
   "source": [
    "pad_train.drop(['Year_2007', 'Year_2009', 'Year_2011', 'Year_2013', 'Year',\n",
    "       'Longitude_wnv', 'Latitude_wnv', '2007_wnv', '2009_wnv', '2011_wnv',\n",
    "       '2013_wnv', 'Longitude_wnv_2007', 'Latitude_wnv_2007',\n",
    "       'Longitude_wnv_2009', 'Latitude_wnv_2009', 'Longitude_wnv_2011',\n",
    "       'Latitude_wnv_2011', 'Longitude_wnv_2013', 'Latitude_wnv_2013',\n",
    "       'cluster_predicted_2009', 'cluster_color_2009',\n",
    "       'cluster_predicted_2013', 'cluster_color_2013', 'Date', 'Address', 'Street', \n",
    "       'AddressNumberAndStreet','LLtuples', 'CodeSum', 'index',  'cluster_predicted_2007', 'cluster_color_2007',\n",
    "       'cluster_predicted_2011', 'cluster_color_2011', 'NumMosquitos'], axis=1, inplace= True)"
   ]
  },
  {
   "cell_type": "code",
   "execution_count": 52,
   "metadata": {},
   "outputs": [
    {
     "data": {
      "text/plain": [
       "Index(['Species', 'Block', 'Trap', 'Latitude', 'Longitude', 'AddressAccuracy',\n",
       "       'WnvPresent', 'Station', 'Tmax', 'Tmin', 'Tavg', 'Depart', 'DewPoint',\n",
       "       'WetBulb', 'Heat', 'Cool', 'Sunrise', 'Sunset', 'Depth', 'Water1',\n",
       "       'SnowFall', 'PrecipTotal', 'StnPressure', 'SeaLevel', 'ResultSpeed',\n",
       "       'ResultDir', 'AvgSpeed', 'CodeSum_1', 'CodeSum_2', 'OverAvgNumMos',\n",
       "       'Near_07_Centroid', 'Near_09_Centroid', 'Near_11_Centroid',\n",
       "       'Near_13_Centroid'],\n",
       "      dtype='object')"
      ]
     },
     "execution_count": 52,
     "metadata": {},
     "output_type": "execute_result"
    }
   ],
   "source": [
    "pad_train.columns"
   ]
  },
  {
   "cell_type": "code",
   "execution_count": 53,
   "metadata": {
    "scrolled": true
   },
   "outputs": [],
   "source": [
    "# fig, ax = plt.subplots(figsize=(12,12))\n",
    "# ax = sns.heatmap(features.corr(), annot= True)"
   ]
  },
  {
   "cell_type": "code",
   "execution_count": 54,
   "metadata": {},
   "outputs": [],
   "source": [
    "#poly = PolynomialFeatures()\n",
    "#features_poly = poly.fit_transform(features)\n",
    "X = pad_train.drop('WnvPresent', axis=1)\n",
    "y = pad_train['WnvPresent']"
   ]
  },
  {
   "cell_type": "code",
   "execution_count": 55,
   "metadata": {
    "scrolled": false
   },
   "outputs": [
    {
     "name": "stderr",
     "output_type": "stream",
     "text": [
      "/Users/adamkrauss/anaconda3/lib/python3.6/site-packages/sklearn/model_selection/_split.py:2026: FutureWarning: From version 0.21, test_size will always complement train_size unless both are specified.\n",
      "  FutureWarning)\n"
     ]
    }
   ],
   "source": [
    "X_train, X_test, y_train, y_test = train_test_split(X, y, train_size=0.6, stratify=y)"
   ]
  },
  {
   "cell_type": "code",
   "execution_count": 56,
   "metadata": {},
   "outputs": [],
   "source": [
    "ss = StandardScaler()\n",
    "X_train = ss.fit_transform(X_train)\n",
    "X_test= ss.transform(X_test)\n",
    "pca = PCA(n_components=25)\n",
    "X_train = pca.fit_transform(X_train)\n",
    "X_test= pca.transform(X_test)\n",
    "xgbmodel = xgboost.XGBClassifier()\n"
   ]
  },
  {
   "cell_type": "code",
   "execution_count": 57,
   "metadata": {
    "scrolled": true
   },
   "outputs": [
    {
     "name": "stdout",
     "output_type": "stream",
     "text": [
      "0.8648046157880933\n",
      "0.8579858379228954\n"
     ]
    },
    {
     "name": "stderr",
     "output_type": "stream",
     "text": [
      "/Users/adamkrauss/anaconda3/lib/python3.6/site-packages/sklearn/preprocessing/label.py:151: DeprecationWarning: The truth value of an empty array is ambiguous. Returning False, but in future this will result in an error. Use `array.size > 0` to check that an array is not empty.\n",
      "  if diff:\n",
      "/Users/adamkrauss/anaconda3/lib/python3.6/site-packages/sklearn/preprocessing/label.py:151: DeprecationWarning: The truth value of an empty array is ambiguous. Returning False, but in future this will result in an error. Use `array.size > 0` to check that an array is not empty.\n",
      "  if diff:\n"
     ]
    }
   ],
   "source": [
    "xgbmodel.fit(X_train,y_train)\n",
    "print(xgbmodel.score(X_train, y_train))\n",
    "print(xgbmodel.score(X_test, y_test))"
   ]
  },
  {
   "cell_type": "code",
   "execution_count": 58,
   "metadata": {},
   "outputs": [
    {
     "name": "stdout",
     "output_type": "stream",
     "text": [
      "0.9704956726986624\n",
      "0.9508261211644374\n"
     ]
    }
   ],
   "source": [
    "rf = RandomForestClassifier()\n",
    "rf.fit(X_train, y_train)\n",
    "print(rf.score(X_train, y_train))\n",
    "print(rf.score(X_test, y_test))"
   ]
  },
  {
   "cell_type": "code",
   "execution_count": 59,
   "metadata": {
    "scrolled": true
   },
   "outputs": [
    {
     "name": "stdout",
     "output_type": "stream",
     "text": [
      "0.8648046157880933\n",
      "0.8579858379228954\n"
     ]
    },
    {
     "name": "stderr",
     "output_type": "stream",
     "text": [
      "/Users/adamkrauss/anaconda3/lib/python3.6/site-packages/sklearn/preprocessing/label.py:151: DeprecationWarning: The truth value of an empty array is ambiguous. Returning False, but in future this will result in an error. Use `array.size > 0` to check that an array is not empty.\n",
      "  if diff:\n",
      "/Users/adamkrauss/anaconda3/lib/python3.6/site-packages/sklearn/preprocessing/label.py:151: DeprecationWarning: The truth value of an empty array is ambiguous. Returning False, but in future this will result in an error. Use `array.size > 0` to check that an array is not empty.\n",
      "  if diff:\n"
     ]
    }
   ],
   "source": [
    "xgbmodel = xgboost.XGBClassifier()\n",
    "xgbmodel.fit(X_train, y_train)\n",
    "print(xgbmodel.score(X_train, y_train))\n",
    "print(xgbmodel.score(X_test, y_test))"
   ]
  },
  {
   "cell_type": "code",
   "execution_count": 60,
   "metadata": {},
   "outputs": [
    {
     "name": "stdout",
     "output_type": "stream",
     "text": [
      "0.8013375295043274\n",
      "0.8131392604248623\n"
     ]
    }
   ],
   "source": [
    "bayes = GaussianNB()\n",
    "bayes.fit(X_train, y_train)\n",
    "print(bayes.score(X_train, y_train))\n",
    "print(bayes.score(X_test, y_test))"
   ]
  },
  {
   "cell_type": "code",
   "execution_count": 61,
   "metadata": {},
   "outputs": [
    {
     "name": "stdout",
     "output_type": "stream",
     "text": [
      "0.970889063729347\n",
      "0.9451219512195121\n"
     ]
    }
   ],
   "source": [
    "bag = BaggingClassifier()\n",
    "bag.fit(X_train, y_train)\n",
    "print(bag.score(X_train, y_train))\n",
    "print(bag.score(X_test, y_test))"
   ]
  },
  {
   "cell_type": "code",
   "execution_count": 138,
   "metadata": {},
   "outputs": [
    {
     "name": "stdout",
     "output_type": "stream",
     "text": [
      "0.8401521111985314\n",
      "0.837332808811959\n"
     ]
    }
   ],
   "source": [
    "gb = GradientBoostingClassifier(min_weight_fraction_leaf=.2)\n",
    "gb.fit(X_train, y_train)\n",
    "print(gb.score(X_train, y_train))\n",
    "print(gb.score(X_test, y_test))"
   ]
  },
  {
   "cell_type": "code",
   "execution_count": 65,
   "metadata": {},
   "outputs": [
    {
     "name": "stdout",
     "output_type": "stream",
     "text": [
      "Fitting 2 folds for each of 576 candidates, totalling 1152 fits\n"
     ]
    },
    {
     "name": "stderr",
     "output_type": "stream",
     "text": [
      "[Parallel(n_jobs=1)]: Done 1152 out of 1152 | elapsed: 28.6min finished\n"
     ]
    },
    {
     "name": "stdout",
     "output_type": "stream",
     "text": [
      "0.8038290060319958\n",
      "{'learning_rate': 0.004, 'max_depth': 8, 'max_features': 10, 'min_weight_fraction_leaf': 0.3, 'n_estimators': 1500}\n"
     ]
    }
   ],
   "source": [
    "params = {\n",
    "  'learning_rate':[0.001, 0.002, 0.003, 0.004],\n",
    "  'n_estimators' : [750, 1000, 1250, 1500],\n",
    "  'max_features' : [8,9,10],\n",
    "  'max_depth' : [6,7,8,9],\n",
    "  'min_weight_fraction_leaf': [0.3, 0.4, 0.5]\n",
    "    \n",
    "    \n",
    "}\n",
    "\n",
    "gs = GridSearchCV(gb, params, verbose=1, cv=2)\n",
    "gs.fit(X_train, y_train)\n",
    "print(gs.best_score_)\n",
    "print(gs.best_params_)"
   ]
  },
  {
   "cell_type": "code",
   "execution_count": 66,
   "metadata": {},
   "outputs": [
    {
     "data": {
      "text/plain": [
       "0.8018620508785733"
      ]
     },
     "execution_count": 66,
     "metadata": {},
     "output_type": "execute_result"
    }
   ],
   "source": [
    "gs.score(X_train, y_train)"
   ]
  },
  {
   "cell_type": "code",
   "execution_count": 63,
   "metadata": {},
   "outputs": [
    {
     "name": "stdout",
     "output_type": "stream",
     "text": [
      "0.8370049829530554\n",
      "0.8308418568056648\n"
     ]
    }
   ],
   "source": [
    "ada = AdaBoostClassifier()\n",
    "ada.fit(X_train, y_train)\n",
    "print(ada.score(X_train, y_train))\n",
    "print(ada.score(X_test, y_test))"
   ]
  },
  {
   "cell_type": "code",
   "execution_count": null,
   "metadata": {},
   "outputs": [],
   "source": [
    "# Setting random seed for NN (https://machinelearningmastery.com/reproducible-results-neural-networks-keras/)\n",
    "from numpy.random import seed\n",
    "seed(1)\n",
    "from tensorflow import set_random_seed\n",
    "set_random_seed(2)\n",
    "\n",
    "def keras_gridsearch(hidden_layer_one=27, hidden_layer_two=20):\n",
    "    model = Sequential()\n",
    "    model.add(Dense(27, activation='relu', input_dim=X_train.shape[1])) \n",
    "    model.add(Dense(hidden_layer_one, activation='relu')) \n",
    "    model.add(Dense(hidden_layer_two, activation='relu'))\n",
    "    model.add(Dense(1, activation='sigmoid')) \n",
    "    model.compile(loss='binary_crossentropy', optimizer='adam', metrics=['accuracy'])\n",
    "    return model\n",
    "# history = keras.fit(X_train, y_train, validation_data=(X_test, y_test), epochs=15, batch_size=100)"
   ]
  },
  {
   "cell_type": "code",
   "execution_count": 380,
   "metadata": {},
   "outputs": [],
   "source": [
    "ss_nn = StandardScaler()\n",
    "keras = KerasClassifier(build_fn=keras_gridsearch, verbose=1)\n",
    "\n",
    "pipe = Pipeline([\n",
    "    ('ss', ss_nn),\n",
    "    ('keras', keras)])"
   ]
  },
  {
   "cell_type": "code",
   "execution_count": 190,
   "metadata": {},
   "outputs": [],
   "source": [
    "# params = {\n",
    "#     'keras__epochs': [15],\n",
    "#     'keras__batch_size': [50],\n",
    "#     'keras__hidden_layer_one': [12, 15],\n",
    "#     'keras__hidden_layer_two': [4, 8]\n",
    "# }\n",
    "\n",
    "# gs = GridSearchCV(pipe, params, verbose=1, cv=2)\n",
    "# gs.fit(X_train, y_train)\n",
    "# print(gs.best_score_)\n",
    "# print(gs.best_params_)"
   ]
  },
  {
   "cell_type": "markdown",
   "metadata": {},
   "source": [
    "# Applying to Validation Dataset"
   ]
  },
  {
   "cell_type": "code",
   "execution_count": 113,
   "metadata": {},
   "outputs": [],
   "source": [
    "test = pd.read_csv('test.csv') #to get values for df \n",
    "sub =pd.read_csv('test.csv') # to get strip ids"
   ]
  },
  {
   "cell_type": "code",
   "execution_count": 114,
   "metadata": {},
   "outputs": [],
   "source": [
    "test['Station'] = test.apply(lambda x: choose_station(x['Latitude'], x['Longitude']), axis=1)\n",
    "test= pd.merge(test, weather, on=['Date','Station'])"
   ]
  },
  {
   "cell_type": "code",
   "execution_count": 115,
   "metadata": {
    "scrolled": true
   },
   "outputs": [
    {
     "name": "stderr",
     "output_type": "stream",
     "text": [
      "/Users/adamkrauss/anaconda3/lib/python3.6/site-packages/pandas/core/generic.py:4480: UserWarning: the \"axis\" argument is deprecated and will be removed inv0.13; this argument has no effect\n",
      "  warnings.warn('the \"axis\" argument is deprecated '\n"
     ]
    }
   ],
   "source": [
    "#test.drop('Species', axis=1, inplace=True)\n",
    "le.fit(test['Species'])\n",
    "test['Species'] = le.transform(test['Species'])\n",
    "le.fit(test['Trap'])\n",
    "test['Trap'] = le.transform(test['Trap'])\n",
    "le.fit(test['Water1'])\n",
    "test['Water1'] = le.transform(test['Water1'])\n",
    "\n",
    "test.replace('M', np.NaN ,inplace=True, axis = 1)\n",
    "test.replace('  T', np.NaN ,inplace=True, axis = 1)\n",
    "test['Sunrise'].replace('-', np.nan,inplace=True, axis = 1)\n",
    "test['Sunrise'].fillna(str('0421'), inplace = True)\n",
    "test['Sunset'].replace('-', np.nan,inplace=True, axis = 1)\n",
    "test['Sunset'].fillna(1919, inplace = True)\n",
    "\n",
    "test['Tavg'] = test['Tavg'].astype('float64')\n",
    "test['Depart'] = test['Depart'].astype('float64')\n",
    "test['WetBulb'] = test['WetBulb'].astype('float64')\n",
    "test['Depth'] = test['Depth'].astype('float64')\n",
    "test['SnowFall'] = test['SnowFall'].astype('float64')\n",
    "test['PrecipTotal'] = test['PrecipTotal'].astype('float64')\n",
    "test['StnPressure'] = test['StnPressure'].astype('float64')\n",
    "test['SeaLevel'] = test['SeaLevel'].astype('float64')\n",
    "test['AvgSpeed'] = test['AvgSpeed'].astype('float64')\n",
    "test['Heat'] = test['Heat'].astype('int64')\n",
    "test['Cool'] = test['Cool'].astype('int64')\n",
    "test['Sunrise'] = test['Sunrise'].astype('int64')\n",
    "test['Sunset'] = test['Sunset'].astype('int64')\n",
    "\n",
    "test['Depth'].interpolate(method='linear', inplace=True)\n",
    "test['SnowFall'].interpolate(method='linear', inplace=True)\n",
    "test['PrecipTotal'].interpolate(method='linear', inplace=True)\n",
    "test['StnPressure'].interpolate(method='linear', inplace=True)\n",
    "test['Depart'].interpolate(method='linear', inplace=True)\n",
    "test['WetBulb'].interpolate(method='linear', inplace=True)\n",
    "\n",
    "test['CodeSum'] = test['CodeSum'].map(lambda x: (x.replace('TSRA', 'TR')))\n",
    "test['CodeSum_1'] = test['CodeSum'].apply(lambda x: x[0:2])\n",
    "test['CodeSum_2'] = test['CodeSum'].apply(lambda x: x[3:5])\n",
    "\n",
    "le.fit(test['CodeSum_1'])\n",
    "test['CodeSum_1'] = le.transform(test['CodeSum_1'])\n",
    "le.fit(test['CodeSum_2'])\n",
    "test['CodeSum_2'] = le.transform(test['CodeSum_2'])\n",
    "\n",
    "test_tuples = test[[\"Latitude\", \"Longitude\"]]\n",
    "test_tuples = [tuple(x) for x in test_tuples.values]\n",
    "test['LLtuples'] = test_tuples\n",
    "\n",
    "test['Near_07_Centroid'] = test['LLtuples'].apply(lambda x: 1 if x in within_range_7 else 0)\n",
    "test['Near_09_Centroid'] = test['LLtuples'].apply(lambda x: 1 if x in within_range_9 else 0)\n",
    "test['Near_11_Centroid'] = test['LLtuples'].apply(lambda x: 1 if x in within_range_11 else 0)\n",
    "test['Near_13_Centroid'] = test['LLtuples'].apply(lambda x: 1 if x in within_range_13 else 0)\n"
   ]
  },
  {
   "cell_type": "code",
   "execution_count": 116,
   "metadata": {},
   "outputs": [],
   "source": [
    "test.drop(['Date', 'Address', 'AddressNumberAndStreet', 'LLtuples', 'Street', 'Id', 'CodeSum'], axis=1, inplace=True)"
   ]
  },
  {
   "cell_type": "code",
   "execution_count": 117,
   "metadata": {},
   "outputs": [],
   "source": [
    "testcopy = test.copy(deep=True)\n"
   ]
  },
  {
   "cell_type": "code",
   "execution_count": 118,
   "metadata": {},
   "outputs": [],
   "source": [
    "testcopy.drop(['Longitude', 'Station', 'Sunrise', 'Depth', 'Water1', 'SnowFall', 'PrecipTotal',\n",
    "       'StnPressure', 'SeaLevel', 'ResultSpeed', 'ResultDir', 'AvgSpeed',\n",
    "       'CodeSum_1', 'CodeSum_2', 'Near_07_Centroid', 'Near_09_Centroid',\n",
    "       'Near_11_Centroid', 'Near_13_Centroid', 'Species'], axis=1, inplace=True)"
   ]
  },
  {
   "cell_type": "code",
   "execution_count": 119,
   "metadata": {},
   "outputs": [],
   "source": [
    "testcopy = scaler.transform(testcopy)\n",
    "testcopy= pcacopy.transform(testcopy)"
   ]
  },
  {
   "cell_type": "code",
   "execution_count": 120,
   "metadata": {},
   "outputs": [
    {
     "ename": "AttributeError",
     "evalue": "'numpy.ndarray' object has no attribute 'columns'",
     "output_type": "error",
     "traceback": [
      "\u001b[0;31m---------------------------------------------------------------------------\u001b[0m",
      "\u001b[0;31mAttributeError\u001b[0m                            Traceback (most recent call last)",
      "\u001b[0;32m<ipython-input-120-48b6baf44eb5>\u001b[0m in \u001b[0;36m<module>\u001b[0;34m()\u001b[0m\n\u001b[0;32m----> 1\u001b[0;31m \u001b[0mtestcopy\u001b[0m\u001b[0;34m.\u001b[0m\u001b[0mcolumns\u001b[0m\u001b[0;34m\u001b[0m\u001b[0m\n\u001b[0m",
      "\u001b[0;31mAttributeError\u001b[0m: 'numpy.ndarray' object has no attribute 'columns'"
     ]
    }
   ],
   "source": [
    "testcopy.columns"
   ]
  },
  {
   "cell_type": "code",
   "execution_count": 121,
   "metadata": {
    "scrolled": true
   },
   "outputs": [],
   "source": [
    "sub['OverAvgNumMos'] = mosgb.predict(testcopy)\n",
    "test['OverAvgNumMos'] = sub['OverAvgNumMos']\n"
   ]
  },
  {
   "cell_type": "code",
   "execution_count": 122,
   "metadata": {},
   "outputs": [],
   "source": [
    "test = ss.transform(test)\n",
    "test = pca.transform(test)"
   ]
  },
  {
   "cell_type": "code",
   "execution_count": null,
   "metadata": {},
   "outputs": [],
   "source": [
    "keras = KerasClassifier(build_fn=keras_gridsearch, verbose=1)"
   ]
  },
  {
   "cell_type": "code",
   "execution_count": null,
   "metadata": {},
   "outputs": [],
   "source": [
    "def keras_gridsearch(hidden_layer_one=30, hidden_layer_two=20):\n",
    "    model = Sequential()\n",
    "    model.add(Dense(30, activation='relu', input_dim=X_train.shape[1])) \n",
    "    model.add(Dense(hidden_layer_one, activation='relu')) \n",
    "    model.add(Dense(hidden_layer_two, activation='relu'))\n",
    "    model.add(Dense(1, activation='sigmoid')) \n",
    "    model.compile(loss='binary_crossentropy', optimizer='adam', metrics=['accuracy'])\n",
    "    return model"
   ]
  },
  {
   "cell_type": "code",
   "execution_count": null,
   "metadata": {},
   "outputs": [],
   "source": [
    "pipe = Pipeline([\n",
    "    ('keras', keras)\n",
    "])"
   ]
  },
  {
   "cell_type": "code",
   "execution_count": null,
   "metadata": {
    "scrolled": false
   },
   "outputs": [],
   "source": [
    "params = {\n",
    "    'keras__epochs': [40],\n",
    "    'keras__batch_size': [50],\n",
    "    'keras__hidden_layer_one': [12, 15, 20],\n",
    "    'keras__hidden_layer_two': [4, 8, 12]\n",
    "}\n",
    "\n",
    "gs = GridSearchCV(pipe, params, verbose=1, cv=2)\n",
    "gs.fit(X_train, y_train)\n",
    "print(gs.best_score_)\n",
    "print(gs.best_params_)"
   ]
  },
  {
   "cell_type": "markdown",
   "metadata": {},
   "source": [
    "# SUBMISSION"
   ]
  },
  {
   "cell_type": "code",
   "execution_count": 139,
   "metadata": {},
   "outputs": [],
   "source": [
    "submission = pd.DataFrame()"
   ]
  },
  {
   "cell_type": "code",
   "execution_count": 140,
   "metadata": {},
   "outputs": [],
   "source": [
    "#submission['Predictrf'] = rf.predict(test)\n",
    "#test['WnvPresentgb'] = xgbmodel.predict(test_features)\n",
    "#test['WnvPresentrf'] = rf.predict(test_features)\n",
    "#submission['WnvPresentbayes'] = bayes.predict(test)\n",
    "#submission['WnvPresent'] = rf.predict(test)\n",
    "#submission['WnvPresent'] = gb.predict(test)\n",
    "submission['WnvPresent'] = gb.predict(test)  "
   ]
  },
  {
   "cell_type": "code",
   "execution_count": 141,
   "metadata": {},
   "outputs": [],
   "source": [
    "#submission.drop(['Predictrf', 'WnvPresentbayes'], axis=1, inplace=True)\n",
    "#submission.drop('Bag', axis=1, inplace = True)\n",
    "submission['Id'] = sub['Id']\n",
    "submission = submission[['Id', 'WnvPresent']]\n",
    "submission= submission.set_index('Id')"
   ]
  },
  {
   "cell_type": "code",
   "execution_count": 142,
   "metadata": {},
   "outputs": [],
   "source": [
    "submission.to_csv(path_or_buf='submission7')"
   ]
  },
  {
   "cell_type": "code",
   "execution_count": null,
   "metadata": {},
   "outputs": [],
   "source": [
    "sample_sub = pd.read_csv('sampleSubmission.csv')"
   ]
  },
  {
   "cell_type": "code",
   "execution_count": null,
   "metadata": {},
   "outputs": [],
   "source": [
    "sample_sub.head()"
   ]
  },
  {
   "cell_type": "markdown",
   "metadata": {},
   "source": [
    "# Additional Visualization"
   ]
  },
  {
   "cell_type": "code",
   "execution_count": null,
   "metadata": {},
   "outputs": [],
   "source": [
    "plt.scatter(train['Longitude'], train['Latitude'], alpha=0.05);"
   ]
  },
  {
   "cell_type": "code",
   "execution_count": null,
   "metadata": {},
   "outputs": [],
   "source": [
    "plt.scatter(train['Longitude_wnv'], train['Latitude_wnv'], alpha=0.05)"
   ]
  },
  {
   "cell_type": "code",
   "execution_count": null,
   "metadata": {},
   "outputs": [],
   "source": [
    "train['Longitude_wnv'].fillna(0, inplace = True)\n",
    "train['Latitude_wnv'].fillna(0, inplace = True)\n",
    "\n",
    "kmeans = KMeans(n_clusters=8)\n",
    "model = kmeans.fit(train[['Longitude_wnv', 'Latitude_wnv']])\n",
    "train['cluster_predicted'] = model.labels_\n",
    "model.cluster_centers_\n",
    "\n",
    "centroids = pd.DataFrame(model.cluster_centers_, columns=['Longitude', 'Latitude'])\n",
    "centroids.drop([0], inplace=True)\n",
    "print(centroids)\n",
    "\n",
    "colors = [\"black\", \"green\", \"blue\", \"orange\", \"tomato\", \"coral\", \"purple\", \"magenta\"] # black is for non-present WNV\n",
    "train['cluster_color'] = train['cluster_predicted'].map(lambda p: colors[p])\n",
    "\n",
    "ax = train.plot(    \n",
    "    kind=\"scatter\", \n",
    "    x=\"Longitude_wnv\", y=\"Latitude_wnv\",\n",
    "    figsize=(10,8),\n",
    "    xlim=(-88, -87.5),\n",
    "    ylim=(41.6, 42.05),\n",
    "    c = train['cluster_color'],\n",
    "    alpha=0.25\n",
    ")\n",
    "\n",
    "centroids.plot(\n",
    "    kind=\"scatter\", \n",
    "    x=\"Longitude\", y=\"Latitude\", \n",
    "    marker=\"*\", \n",
    "    c=[\"green\", \"blue\", \"orange\", \"tomato\", \"coral\", \"purple\", \"magenta\"], \n",
    "    s=250,\n",
    "    ax=ax\n",
    ")\n",
    "\n",
    "print(silhouette_score(train[['Longitude_wnv', 'Latitude_wnv']], train['cluster_predicted']))"
   ]
  },
  {
   "cell_type": "code",
   "execution_count": null,
   "metadata": {},
   "outputs": [],
   "source": []
  }
 ],
 "metadata": {
  "kernelspec": {
   "display_name": "Python 3",
   "language": "python",
   "name": "python3"
  },
  "language_info": {
   "codemirror_mode": {
    "name": "ipython",
    "version": 3
   },
   "file_extension": ".py",
   "mimetype": "text/x-python",
   "name": "python",
   "nbconvert_exporter": "python",
   "pygments_lexer": "ipython3",
   "version": "3.6.4"
  }
 },
 "nbformat": 4,
 "nbformat_minor": 2
}
